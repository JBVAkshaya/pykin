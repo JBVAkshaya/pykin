{
 "cells": [
  {
   "cell_type": "markdown",
   "metadata": {},
   "source": [
    "# Collision tutorial\n",
    "\n",
    "we'll demonstrate self collision on a sawyer robot\n",
    "\n",
    "You can see that arm of the sawyer robot collide with milk object."
   ]
  },
  {
   "cell_type": "markdown",
   "metadata": {},
   "source": [
    "## Setup\n",
    "If you want to check robot's collision, install python-fcl \n",
    "\n",
    "And then, import CollisionManager"
   ]
  },
  {
   "cell_type": "code",
   "execution_count": 1,
   "metadata": {},
   "outputs": [],
   "source": [
    "import numpy as np\n",
    "import yaml\n",
    "import trimesh\n",
    "import os\n",
    "\n",
    "from pykin.robots.single_arm import SingleArm\n",
    "from pykin.kinematics.transform import Transform\n",
    "from pykin.collision.collision_manager import CollisionManager\n",
    "from pykin.utils.collision_utils import apply_robot_to_collision_manager, apply_robot_to_scene\n",
    "from pykin.utils.kin_utils import ShellColors as sc"
   ]
  },
  {
   "cell_type": "code",
   "execution_count": 2,
   "metadata": {},
   "outputs": [
    {
     "data": {
      "text/plain": [
       "<trimesh.scene.Camera> FOV: [60. 45.] Resolution: [1024  512]"
      ]
     },
     "execution_count": 2,
     "metadata": {},
     "output_type": "execute_result"
    }
   ],
   "source": [
    "pykin_path = os.path.dirname(os.getcwd())\n",
    "file_path = '../asset/urdf/sawyer/sawyer.urdf'\n",
    "mesh_path = pykin_path+\"/asset/urdf/sawyer/\"\n",
    "config_path = '../asset/config/sawyer_init_params.yaml'\n",
    "\n",
    "with open(config_path) as f:\n",
    "    controller_config = yaml.safe_load(f)\n",
    "init_qpos = controller_config[\"init_qpos\"]\n",
    "\n",
    "robot = SingleArm(file_path, Transform(rot=[0.0, 0.0, 0.0], pos=[0, 0, -0.5]))\n",
    "fk = robot.forward_kin(np.array(np.concatenate((np.zeros(1), init_qpos))))\n",
    "\n",
    "scene = trimesh.Scene()\n",
    "scene = apply_robot_to_scene(mesh_path=mesh_path, scene=scene, robot=robot, fk=fk)\n",
    "scene.set_camera(np.array([np.pi/6, 0, np.pi/12]))"
   ]
  },
  {
   "cell_type": "markdown",
   "metadata": {},
   "source": [
    "## Use CollisionManager"
   ]
  },
  {
   "cell_type": "markdown",
   "metadata": {},
   "source": [
    "Create robot's collision manager using CollisionManager\n",
    "\n",
    "And check self collision"
   ]
  },
  {
   "cell_type": "code",
   "execution_count": 3,
   "metadata": {},
   "outputs": [
    {
     "name": "stdout",
     "output_type": "stream",
     "text": [
      "False No object collided..\n"
     ]
    }
   ],
   "source": [
    "c_manager = CollisionManager(mesh_path)\n",
    "c_manager.filter_contact_names(robot)\n",
    "c_manager = apply_robot_to_collision_manager(c_manager, robot, fk)\n",
    "\n",
    "# Check self Collision \n",
    "result, name, data = c_manager.in_collision_internal(return_names=True, return_data=True)\n",
    "print(result, name)"
   ]
  },
  {
   "cell_type": "markdown",
   "metadata": {},
   "source": [
    "Create object's collision manager using CollisionManager"
   ]
  },
  {
   "cell_type": "code",
   "execution_count": 4,
   "metadata": {},
   "outputs": [
    {
     "data": {
      "text/plain": [
       "'milk2'"
      ]
     },
     "execution_count": 4,
     "metadata": {},
     "output_type": "execute_result"
    }
   ],
   "source": [
    "milk_path = pykin_path+\"/asset/objects/meshes/milk.stl\"\n",
    "milk_mesh = trimesh.load_mesh(milk_path)\n",
    "o_manager = CollisionManager(milk_path)\n",
    "o_manager.add_object(\"milk1\", gtype=\"mesh\", gparam=milk_mesh, transform=Transform(pos=[0.0, 0, 0.1]).h_mat)\n",
    "o_manager.add_object(\"milk2\", gtype=\"mesh\", gparam=milk_mesh, transform=Transform(pos=[0.1, 0, 0.1]).h_mat)\n",
    "scene.add_geometry(milk_mesh, node_name=\"milk1\", transform=Transform(pos=[0.0, 0, 0.1]).h_mat)\n",
    "scene.add_geometry(milk_mesh, node_name=\"milk2\", transform=Transform(pos=[0.1, 0, 0.1]).h_mat)"
   ]
  },
  {
   "cell_type": "markdown",
   "metadata": {},
   "source": [
    "Check collision between robot and objects"
   ]
  },
  {
   "cell_type": "code",
   "execution_count": 5,
   "metadata": {},
   "outputs": [
    {
     "name": "stdout",
     "output_type": "stream",
     "text": [
      "\u001b[91mCollision occurs between milk1 and sawyer_head!!\u001b[0m\n"
     ]
    }
   ],
   "source": [
    "result, name, data = o_manager.in_collision_other(c_manager, return_names=True, return_data=True)\n",
    "print(f\"{sc.FAIL}Collision occurs between {list(name)[0][0]} and {list(name)[0][1]}!!{sc.ENDC}\")"
   ]
  },
  {
   "cell_type": "markdown",
   "metadata": {},
   "source": [
    "Check collision and distance between robot and objects"
   ]
  },
  {
   "cell_type": "code",
   "execution_count": 6,
   "metadata": {},
   "outputs": [
    {
     "name": "stdout",
     "output_type": "stream",
     "text": [
      "object: milk1, link: sawyer_pedestal, distance: 0.530347\n",
      "object: milk1, link: sawyer_right_arm_base_link, distance: 0.452704\n",
      "object: milk1, link: sawyer_link_0, distance: 0.141455\n",
      "\u001b[91mCollision occurs!!\u001b[0m object: milk1, link: sawyer_head, distance: 0.0\n",
      "object: milk1, link: sawyer_link_1, distance: 0.158688\n",
      "object: milk1, link: sawyer_link_2, distance: 0.166534\n",
      "object: milk1, link: sawyer_link_3, distance: 0.160757\n",
      "object: milk1, link: sawyer_link_4, distance: 0.244461\n",
      "object: milk1, link: sawyer_link_5, distance: 0.424437\n",
      "object: milk1, link: sawyer_link_6, distance: 0.482171\n",
      "object: milk2, link: sawyer_pedestal, distance: 0.528197\n",
      "object: milk2, link: sawyer_right_arm_base_link, distance: 0.452333\n",
      "object: milk2, link: sawyer_link_0, distance: 0.146183\n",
      "object: milk2, link: sawyer_head, distance: 0.036907\n",
      "object: milk2, link: sawyer_link_1, distance: 0.144447\n",
      "object: milk2, link: sawyer_link_2, distance: 0.126585\n",
      "object: milk2, link: sawyer_link_3, distance: 0.063889\n",
      "object: milk2, link: sawyer_link_4, distance: 0.144461\n",
      "object: milk2, link: sawyer_link_5, distance: 0.335045\n",
      "object: milk2, link: sawyer_link_6, distance: 0.405365\n"
     ]
    }
   ],
   "source": [
    "result = o_manager.get_distances_other(c_manager)\n",
    "for (object, robot), dis in result.items():\n",
    "    if dis <= 0.0:\n",
    "        print(f\"{sc.FAIL}Collision occurs!!{sc.ENDC} \", end=\"\")\n",
    "    print(f\"object: {object}, link: {robot}, distance: {dis}\")"
   ]
  },
  {
   "cell_type": "code",
   "execution_count": 7,
   "metadata": {},
   "outputs": [
    {
     "ename": "AttributeError",
     "evalue": "module 'trimesh' has no attribute 'viewer'",
     "output_type": "error",
     "traceback": [
      "\u001b[0;31m---------------------------------------------------------------------------\u001b[0m",
      "\u001b[0;31mAttributeError\u001b[0m                            Traceback (most recent call last)",
      "\u001b[0;32m/var/folders/nh/50f34tk570n161r5j60m43vw0000gn/T/ipykernel_47474/3687595857.py\u001b[0m in \u001b[0;36m<module>\u001b[0;34m\u001b[0m\n\u001b[1;32m      1\u001b[0m \u001b[0;31m# scene.show()\u001b[0m\u001b[0;34m\u001b[0m\u001b[0;34m\u001b[0m\u001b[0m\n\u001b[0;32m----> 2\u001b[0;31m \u001b[0mtrimesh\u001b[0m\u001b[0;34m.\u001b[0m\u001b[0mviewer\u001b[0m\u001b[0;34m.\u001b[0m\u001b[0mnotebook\u001b[0m\u001b[0;34m.\u001b[0m\u001b[0mscene_to_notebook\u001b[0m\u001b[0;34m(\u001b[0m\u001b[0mscene\u001b[0m\u001b[0;34m,\u001b[0m \u001b[0mheight\u001b[0m\u001b[0;34m=\u001b[0m\u001b[0;36m500\u001b[0m\u001b[0;34m)\u001b[0m\u001b[0;34m\u001b[0m\u001b[0;34m\u001b[0m\u001b[0m\n\u001b[0m",
      "\u001b[0;31mAttributeError\u001b[0m: module 'trimesh' has no attribute 'viewer'"
     ]
    }
   ],
   "source": [
    "scene.show()\n",
    "trimesh.viewer.notebook.scene_to_notebook(scene, height=500)"
   ]
  }
 ],
 "metadata": {
  "interpreter": {
   "hash": "b20081bdc287ac2c1d69003683d35ecf982ea0bab41dbbd316fa020b393ed781"
  },
  "kernelspec": {
   "display_name": "Python 3.6.13 64-bit ('pykdl_py_3.6': conda)",
   "name": "python3"
  },
  "language_info": {
   "codemirror_mode": {
    "name": "ipython",
    "version": 3
   },
   "file_extension": ".py",
   "mimetype": "text/x-python",
   "name": "python",
   "nbconvert_exporter": "python",
   "pygments_lexer": "ipython3",
   "version": "3.9.7"
  },
  "orig_nbformat": 4
 },
 "nbformat": 4,
 "nbformat_minor": 2
}
