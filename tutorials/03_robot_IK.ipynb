{
 "cells": [
  {
   "cell_type": "markdown",
   "source": [
    "# Inverse Kinematics tutorial\n",
    "\n",
    "we'll demonstarte inverse kinematics on a baxter robot"
   ],
   "metadata": {}
  }
 ],
 "metadata": {
  "orig_nbformat": 4,
  "language_info": {
   "name": "python"
  }
 },
 "nbformat": 4,
 "nbformat_minor": 2
}