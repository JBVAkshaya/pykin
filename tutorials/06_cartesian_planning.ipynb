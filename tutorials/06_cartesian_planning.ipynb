{
 "cells": [
  {
   "cell_type": "markdown",
   "metadata": {},
   "source": [
    "# Cartesian Planning tutorial"
   ]
  },
  {
   "cell_type": "markdown",
   "metadata": {},
   "source": [
    "We'll show cartesian planning on a panda robot.\n",
    "\n",
    "If you want to see a simulation demo, check out the examples directory."
   ]
  },
  {
   "cell_type": "markdown",
   "metadata": {},
   "source": []
  }
 ],
 "metadata": {
  "interpreter": {
   "hash": "ff8895ca685482e4524c8ca0eed3ec2a46ae8c3877aa039fb609ea62f70081cf"
  },
  "kernelspec": {
   "display_name": "Python 3.9.9 64-bit ('lets-do-mujoco': conda)",
   "language": "python",
   "name": "python3"
  },
  "language_info": {
   "name": "python",
   "version": "3.9.9"
  },
  "orig_nbformat": 4
 },
 "nbformat": 4,
 "nbformat_minor": 2
}
